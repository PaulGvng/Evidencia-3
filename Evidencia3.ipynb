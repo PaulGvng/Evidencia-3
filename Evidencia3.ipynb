{
  "nbformat": 4,
  "nbformat_minor": 0,
  "metadata": {
    "colab": {
      "provenance": [],
      "authorship_tag": "ABX9TyNrZZAHDYTH/T17Y8EujTq8",
      "include_colab_link": true
    },
    "kernelspec": {
      "name": "python3",
      "display_name": "Python 3"
    },
    "language_info": {
      "name": "python"
    }
  },
  "cells": [
    {
      "cell_type": "markdown",
      "metadata": {
        "id": "view-in-github",
        "colab_type": "text"
      },
      "source": [
        "<a href=\"https://colab.research.google.com/github/PaulGvng/Evidencia-3/blob/main/Evidencia3.ipynb\" target=\"_parent\"><img src=\"https://colab.research.google.com/assets/colab-badge.svg\" alt=\"Open In Colab\"/></a>"
      ]
    },
    {
      "cell_type": "code",
      "execution_count": 1,
      "metadata": {
        "colab": {
          "base_uri": "https://localhost:8080/"
        },
        "id": "88MNrkoNW0bi",
        "outputId": "c633712d-fb8b-4006-f294-9beae93d087d"
      },
      "outputs": [
        {
          "output_type": "stream",
          "name": "stdout",
          "text": [
            "correo,nombre,telefono\n",
            "juan@gmail.com,Juan,8123232323\n",
            "maria@gmail.com,Maria,5545454545\n",
            "diana@homail.com,Diana,4490909090\n"
          ]
        }
      ],
      "source": [
        "Entradas=[\n",
        " ['correo','nombre','telefono'],\n",
        " ['juan@gmail.com','Juan','8123232323'],\n",
        " ['maria@gmail.com','Maria','5545454545'],\n",
        " ['diana@homail.com','Diana','4490909090']\n",
        "]\n",
        "for e in Entradas:\n",
        " print(f'{e[0]},{e[1]},{e[2]}')"
      ]
    },
    {
      "cell_type": "code",
      "source": [
        "# Importar el módulo requerido para el manejo de archivos.\n",
        "import os\n",
        "# Muestra el directorio actual de trabajo. Utiliza getcwd()\n",
        "print(os.getcwd())"
      ],
      "metadata": {
        "colab": {
          "base_uri": "https://localhost:8080/"
        },
        "id": "5HS4zDe4Xz7j",
        "outputId": "fa27d6e3-fe01-4663-d6a8-ad0347f2e9c6"
      },
      "execution_count": 4,
      "outputs": [
        {
          "output_type": "stream",
          "name": "stdout",
          "text": [
            "/content\n"
          ]
        }
      ]
    },
    {
      "cell_type": "code",
      "source": [
        "# Verifica si existen los archivos de respaldo, en cuyo\n",
        "# caso, se eliminan. Usa exists() y remove()\n",
        "if os.path.exists('agenda.csv.bak'):\n",
        " os.remove('agenda.csv.bak')\n",
        "if os.path.exists('agenda.json.bak'):\n",
        " os.remove('agenda.json.bak')\n",
        "# Verifica si existen los archivos de trabajo con datos, en cuyo\n",
        "# caso, se renombran a sus equivalentes de respaldo.\n",
        "# Usa exists() y rename()\n",
        "if os.path.exists('agenda.csv'):\n",
        " os.rename('agenda.csv','agenda.csv.bak')\n",
        "if os.path.exists('agenda.json'):\n",
        " os.rename('agenda.json','agenda.json.bak')\n",
        "# Este código no genera salidas."
      ],
      "metadata": {
        "id": "TSYKAn8dYejU"
      },
      "execution_count": 6,
      "outputs": []
    },
    {
      "cell_type": "code",
      "source": [
        "# Abrir el archivo de datos CSV como Write Extended.\n",
        "# Usar como apuntador de archivo \"f\".\n",
        "# usa open() y el modo w+\n",
        "f = open('agenda.csv','w+')\n",
        "# Escribir los datos de la lista, como datos del CSV\n",
        "# Usa for para leer la lista secuencialmente.\n",
        "# Apóyate en F-String para el formato.\n",
        "# No olvides el salto de línea.\n",
        "for e in Entradas:\n",
        " f.write(f'{e[0]}|{e[1]}|{e[2]}\\n')\n",
        "# No olvides cerrar el archivo\n",
        "f.close()\n",
        "# Comprueba en tu directorio de trabajo, si ya existe el\n",
        "# archivo de datos CSV.\n",
        "# Este código no genera salidas."
      ],
      "metadata": {
        "id": "u6vc6NWehBdI"
      },
      "execution_count": 7,
      "outputs": []
    },
    {
      "cell_type": "code",
      "source": [
        "# Abre el archivo de datos CSV, en modo de solo lectura.\n",
        "# Usa f como apuntador de archivo. Usa open() en modo r.\n",
        "f=open('agenda.csv','r')\n",
        "# Lee el contenido del archivo y colócalo en una variable\n",
        "# llamada contenido. Utiliza read().\n",
        "contenido=f.read()\n",
        "# Cierra el archivo. Utiliza close()\n",
        "f.close()\n",
        "# Muestra el contenido del archivo, que ya tienes en una variable.\n",
        "print(contenido)\n"
      ],
      "metadata": {
        "colab": {
          "base_uri": "https://localhost:8080/"
        },
        "id": "rvsJwATLlWW-",
        "outputId": "e911f780-3f34-4b6d-9844-20a6d207c8ca"
      },
      "execution_count": 8,
      "outputs": [
        {
          "output_type": "stream",
          "name": "stdout",
          "text": [
            "correo|nombre|telefono\n",
            "juan@gmail.com|Juan|8123232323\n",
            "maria@gmail.com|Maria|5545454545\n",
            "diana@homail.com|Diana|4490909090\n",
            "\n"
          ]
        }
      ]
    },
    {
      "cell_type": "code",
      "source": [
        "# Se genera una lista vacía llamada Contactos\n",
        "Contactos=[]\n",
        "# Abrir el archivo de datos CSV, en modo de solo lectura.\n",
        "# usa open, en modo r.\n",
        "f = open('agenda.csv','r')\n",
        "# Elabora un ciclo for, que coloque en una variable llamada\n",
        "# linea a cada una de las líneas en el archivo apuntado\n",
        "# como f. Recuerda que leer un archivo plano con for equivale\n",
        "# a leerlo línea por línea.\n",
        "for linea in f:\n",
        " # Asigna a una variable llamada lista_datos, el equivalente\n",
        " # en lista del contenido de datos, usando como separador\n",
        " # el pipe line. Usa split(), con \"|\" como delimitador.\n",
        " lista_datos=linea.split('|')\n",
        " print(lista_datos)\n",
        " # Elimina el salto de línea del último elemento de la lista\n",
        " lista_datos[2]=lista_datos[2].replace(\"\\n\",\"\")\n",
        " # Agrega la lista de datos contenida en lista_datos\n",
        " # a la lista Contactos\n",
        " Contactos.append(lista_datos)\n",
        "# Cerrar archivo\n",
        "f.close()\n",
        "# Imprime Entradas y Contactos, y comprueba que son iguales\n",
        "print(Entradas)\n",
        "print(Contactos)"
      ],
      "metadata": {
        "colab": {
          "base_uri": "https://localhost:8080/"
        },
        "id": "5E3nisyUmG1H",
        "outputId": "bf867c03-2509-4262-a5e8-a01611914a32"
      },
      "execution_count": 9,
      "outputs": [
        {
          "output_type": "stream",
          "name": "stdout",
          "text": [
            "['correo', 'nombre', 'telefono\\n']\n",
            "['juan@gmail.com', 'Juan', '8123232323\\n']\n",
            "['maria@gmail.com', 'Maria', '5545454545\\n']\n",
            "['diana@homail.com', 'Diana', '4490909090\\n']\n",
            "[['correo', 'nombre', 'telefono'], ['juan@gmail.com', 'Juan', '8123232323'], ['maria@gmail.com', 'Maria', '5545454545'], ['diana@homail.com', 'Diana', '4490909090']]\n",
            "[['correo', 'nombre', 'telefono'], ['juan@gmail.com', 'Juan', '8123232323'], ['maria@gmail.com', 'Maria', '5545454545'], ['diana@homail.com', 'Diana', '4490909090']]\n"
          ]
        }
      ]
    },
    {
      "cell_type": "code",
      "source": [
        "# Importa la librería para el soporte JSON\n",
        "import json\n",
        "# Almacena en una variable llamada datos_json, que almacene\n",
        "# un volcado de datos. Utiliza dumps().\n",
        "# Proporciona formato con identación a 4 posiciones.\n",
        "datos_json=json.dumps(Contactos,indent=4)\n",
        "# Muestra el contenido serializado.\n",
        "print(datos_json)"
      ],
      "metadata": {
        "colab": {
          "base_uri": "https://localhost:8080/"
        },
        "id": "scQ0Jr7Cm-Ji",
        "outputId": "3fb2a251-ef31-4ff0-d0a6-b7f4ecf5cb58"
      },
      "execution_count": 10,
      "outputs": [
        {
          "output_type": "stream",
          "name": "stdout",
          "text": [
            "[\n",
            "    [\n",
            "        \"correo\",\n",
            "        \"nombre\",\n",
            "        \"telefono\"\n",
            "    ],\n",
            "    [\n",
            "        \"juan@gmail.com\",\n",
            "        \"Juan\",\n",
            "        \"8123232323\"\n",
            "    ],\n",
            "    [\n",
            "        \"maria@gmail.com\",\n",
            "        \"Maria\",\n",
            "        \"5545454545\"\n",
            "    ],\n",
            "    [\n",
            "        \"diana@homail.com\",\n",
            "        \"Diana\",\n",
            "        \"4490909090\"\n",
            "    ]\n",
            "]\n"
          ]
        }
      ]
    },
    {
      "cell_type": "code",
      "source": [
        "# Guarda la serialización en un archivo como agenda.json.\n",
        "# Utiliza open() en modo Write Extended.\n",
        "# Usa f como apuntador de archivo.\n",
        "f = open('agenda.json','w+')\n",
        "f.write(datos_json)\n",
        "f.close()\n",
        "# Este código no genera salidas."
      ],
      "metadata": {
        "id": "67MoOPNjn7nZ"
      },
      "execution_count": 12,
      "outputs": []
    },
    {
      "cell_type": "code",
      "source": [
        "# Abrir el archivo de datos JSON, en modo de solo lectura.\n",
        "# usa open(), en modo r. Usa el apuntador de archivo f.\n",
        "f = open('agenda.json','r')\n",
        "# Carga el contenido JSON en una lista. Usa loads() y read().\n",
        "# Almacena la lectura en una variable llamada Contactos_JSON.\n",
        "Contactos_JSON=json.loads(f.read())\n",
        "# Imprime Entradas, Contactos y Contactos JSON.\n",
        "# Comprueba que son iguales.\n",
        "print(Entradas)\n",
        "print(Contactos)\n",
        "print(Contactos_JSON)"
      ],
      "metadata": {
        "colab": {
          "base_uri": "https://localhost:8080/"
        },
        "id": "R7El-H-BoPpW",
        "outputId": "e3f89675-7c69-49d7-e9ab-9da75b60f942"
      },
      "execution_count": 13,
      "outputs": [
        {
          "output_type": "stream",
          "name": "stdout",
          "text": [
            "[['correo', 'nombre', 'telefono'], ['juan@gmail.com', 'Juan', '8123232323'], ['maria@gmail.com', 'Maria', '5545454545'], ['diana@homail.com', 'Diana', '4490909090']]\n",
            "[['correo', 'nombre', 'telefono'], ['juan@gmail.com', 'Juan', '8123232323'], ['maria@gmail.com', 'Maria', '5545454545'], ['diana@homail.com', 'Diana', '4490909090']]\n",
            "[['correo', 'nombre', 'telefono'], ['juan@gmail.com', 'Juan', '8123232323'], ['maria@gmail.com', 'Maria', '5545454545'], ['diana@homail.com', 'Diana', '4490909090']]\n"
          ]
        }
      ]
    },
    {
      "cell_type": "code",
      "source": [
        "# Importar los módulos para trabajar con pickle y con archivos\n",
        "import os\n",
        "import pickle"
      ],
      "metadata": {
        "id": "RaT76N2uo22m"
      },
      "execution_count": 14,
      "outputs": []
    },
    {
      "cell_type": "code",
      "source": [
        "# Muestra el contenido y el tipo del objeto Entradas, que es el\n",
        "# objeto que deseamos serializar y transportar.\n",
        "print(Entradas)\n",
        "print(type(Entradas))"
      ],
      "metadata": {
        "colab": {
          "base_uri": "https://localhost:8080/"
        },
        "id": "zR6bh6PspA-Z",
        "outputId": "bd8b2215-fa6d-481c-9419-e5ae916ae0b7"
      },
      "execution_count": 15,
      "outputs": [
        {
          "output_type": "stream",
          "name": "stdout",
          "text": [
            "[['correo', 'nombre', 'telefono'], ['juan@gmail.com', 'Juan', '8123232323'], ['maria@gmail.com', 'Maria', '5545454545'], ['diana@homail.com', 'Diana', '4490909090']]\n",
            "<class 'list'>\n"
          ]
        }
      ]
    },
    {
      "cell_type": "code",
      "source": [
        "# Serializa Entradas, usando un archivo pickle llamado\n",
        "# Entradas.pickle. Recuerda que pickle es formato binario\n",
        "# por lo que el tipo de contenido debe ser binario, al escribir.\n",
        "# Utilza with, open() en modo Write Binary Extended, y dump(), para\n",
        "# el manejo de pickle con archivos.\n",
        "with open(\"Entradas.pickle\",\"wb+\") as f:\n",
        " pickle.dump(Entradas,f)\n",
        "\n",
        "# Revisa el archivo .pickle que se ha creado, y comprueba que es\n",
        "# binario."
      ],
      "metadata": {
        "id": "elKY_sWnpRjv"
      },
      "execution_count": 16,
      "outputs": []
    },
    {
      "cell_type": "code",
      "source": [
        "# Recupera el contenido del archivo Entradas.pickle, y asígnalo a una\n",
        "# lista llamada Recuperado. Recuerda que pickle es formato binario\n",
        "# por lo que el tipo de contenido debe ser binario, al leer.\n",
        "# Utilza with, open() en modo Read Binary, y load(), para\n",
        "# el manejo de pickle con archivos.\n",
        "with open(\"Entradas.pickle\",\"rb\") as f:\n",
        " Recuperado=pickle.load(f)\n"
      ],
      "metadata": {
        "id": "_b7mdhdgpVso"
      },
      "execution_count": 17,
      "outputs": []
    },
    {
      "cell_type": "code",
      "source": [
        "# Compara el objeto Entradas con el objeto Recuperado\n",
        "# deben ser iguales.\n",
        "print(Entradas==Recuperado)"
      ],
      "metadata": {
        "colab": {
          "base_uri": "https://localhost:8080/"
        },
        "id": "YzyWN6X8ppFA",
        "outputId": "3f62da7f-09d2-4db5-8f65-e4f44bbfbd67"
      },
      "execution_count": 18,
      "outputs": [
        {
          "output_type": "stream",
          "name": "stdout",
          "text": [
            "True\n"
          ]
        }
      ]
    }
  ]
}